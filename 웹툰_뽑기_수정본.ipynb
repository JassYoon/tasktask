{
  "nbformat": 4,
  "nbformat_minor": 0,
  "metadata": {
    "colab": {
      "name": "웹툰 뽑기 수정본",
      "provenance": [],
      "authorship_tag": "ABX9TyP8/V5XkZKATU6zQTmse7/w",
      "include_colab_link": true
    },
    "kernelspec": {
      "name": "python3",
      "display_name": "Python 3"
    },
    "language_info": {
      "name": "python"
    }
  },
  "cells": [
    {
      "cell_type": "markdown",
      "metadata": {
        "id": "view-in-github",
        "colab_type": "text"
      },
      "source": [
        "<a href=\"https://colab.research.google.com/github/JassYoon/tasktask/blob/main/%EC%9B%B9%ED%88%B0_%EB%BD%91%EA%B8%B0_%EC%88%98%EC%A0%95%EB%B3%B8.ipynb\" target=\"_parent\"><img src=\"https://colab.research.google.com/assets/colab-badge.svg\" alt=\"Open In Colab\"/></a>"
      ]
    },
    {
      "cell_type": "code",
      "execution_count": 2,
      "metadata": {
        "colab": {
          "base_uri": "https://localhost:8080/"
        },
        "id": "K7v3xgiKLjh1",
        "outputId": "cbb95423-ff38-4c85-91ef-4afebc699f75"
      },
      "outputs": [
        {
          "output_type": "stream",
          "name": "stdout",
          "text": [
            "외모지상주의\n",
            "대학원 탈출일지\n",
            "나 혼자 만렙 뉴비\n",
            "어쩌다보니 천생연분\n",
            "갓 오브 하이스쿨\n",
            "광마회귀\n",
            "재혼 황후\n",
            "데드퀸\n",
            "쇼미더럭키짱!\n",
            "1초\n",
            "내과 박원장\n",
            "개를 낳았다\n",
            "죽지 않으려면\n",
            "삼국지톡\n",
            "낙향문사전\n",
            "상남자\n",
            "더 게이머\n",
            "킬 더 드래곤\n",
            "서울역 드루이드\n",
            "이터널 포스\n",
            "역대급 영지 설계사\n",
            "뫼신 사냥꾼\n",
            "스토커의 하루\n",
            "히어로 킬러\n",
            "그들이 사귀는 세상\n",
            "여성전용헬스장 진달래짐\n",
            "악마라고 불러다오\n",
            "로또 황녀님\n",
            "구남친이 내게 반했다\n",
            "푸쉬오프\n",
            "플레이어\n",
            "모텔 304호\n",
            "여우놀이\n",
            "말년용사\n",
            "그렇고 그런 바람에\n",
            "미혼남녀의 효율적 만남\n",
            "희란국연가\n",
            "A.I. 닥터\n",
            "상위1%\n",
            "그 기사가 레이디로 사는 법\n",
            "솔트앤페퍼\n",
            "너의 키스씬\n",
            "후덜덜덜 남극전자\n",
            "스포\n",
            "별빛 커튼콜\n",
            "도무지 그애는\n",
            "엽사:요괴사냥꾼\n",
            "너의 미소가 함정\n",
            "백년게임\n",
            "네버엔딩달링\n",
            "이게 아닌데\n",
            "미친 후작을 길들이고 말았다\n",
            "여름여자 하보이\n",
            "식인귀\n",
            "아찔한 전남편\n",
            "골든 체인지\n",
            "인피니티\n",
            "악몽일기\n",
            "거래\n",
            "오!너의 리스크\n",
            "재앙의 날\n",
            "몽홀\n",
            "태권보이\n",
            "트럼프\n",
            "주님, 악마가 되게 해주세요!\n",
            "달이 없는 나라\n",
            "로판 빙의 만화\n",
            "히트포인트\n",
            "빨간맛 로맨스\n",
            "리트리츠\n",
            "나쁜 쪽으로\n",
            "합법해적 파르페\n",
            "짝사랑 마들렌\n",
            "팬시X팬시\n",
            "킬러방 : 퍼스트 킬\n",
            "스치면 인연 스며들면 사랑\n",
            "행운을 빌어요, 용사님!\n",
            "다름이 아니라\n"
          ]
        }
      ],
      "source": [
        "from urllib.request import urlopen\n",
        "from bs4 import BeautifulSoup\n",
        "\n",
        "html=urlopen('https://comic.naver.com/webtoon/weekdayList')\n",
        "soup=BeautifulSoup(html, \"lxml\")\n",
        "dailylist=soup.find_all('dt')\n",
        "del dailylist[0:3]\n",
        "for wbtn in dailylist:\n",
        "  tg=wbtn.find('a').attrs\n",
        "  print(tg['title'])\n",
        "\n",
        "\n"
      ]
    }
  ]
}